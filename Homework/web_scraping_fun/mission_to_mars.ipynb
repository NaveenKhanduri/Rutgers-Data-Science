{
 "cells": [
  {
   "cell_type": "code",
   "execution_count": 11,
   "metadata": {},
   "outputs": [],
   "source": [
    "import pymongo\n",
    "from splinter import Browser\n",
    "from bs4 import BeautifulSoup\n",
    "from flask import Flask, render_template, redirect\n",
    "import os\n"
   ]
  },
  {
   "cell_type": "code",
   "execution_count": 14,
   "metadata": {},
   "outputs": [],
   "source": [
    "\n",
    "def init_browser():\n",
    "    executable_path = {\"executable_path\": os.getcwd() + \"/chromedriver\"} #{\"executable_path\": \"/Users/Naveen/Desktop/Data_BootCamp/class_work/2_9/chromedriver\"}\n",
    "    return Browser(\"chrome\", **executable_path, headless=False)\n",
    "\n"
   ]
  },
  {
   "cell_type": "code",
   "execution_count": 3,
   "metadata": {},
   "outputs": [],
   "source": [
    "def scrapenews():\n",
    "    listings = {}\n",
    "    \n",
    "    brrowser = init_browser()\n",
    "    url = \"https://mars.nasa.gov/news/?page=0&per_page=40&order=publish_date+desc%2Ccreated_at+desc&search=&category=19%2C165%2C184%2C204&blank_scope=Latest\"\n",
    "    brrowser.visit(url)\n",
    "\n",
    "    html = brrowser.html\n",
    "    soup = BeautifulSoup(html, \"html.parser\")\n",
    "    \n",
    "    \n",
    "    chunks = soup.find_all(\"div\", class_ = \"list_text\")\n",
    "        \n",
    "    for chunk in chunks:\n",
    "        \n",
    "        header = chunk.find('a').text\n",
    "            \n",
    "        body = chunk.find(\"div\", class_ = \"article_teaser_body\").text\n",
    "        \n",
    "        listings[header] = body\n",
    "    brrowser.quit()\n",
    "    news = []\n",
    "    news.append(list(listings.keys())[0])\n",
    "    news.append(list(listings.values())[0])\n",
    "    \n",
    "    return news"
   ]
  },
  {
   "cell_type": "code",
   "execution_count": 4,
   "metadata": {},
   "outputs": [],
   "source": [
    "def scrapeimg():\n",
    "\n",
    "    brrowser = init_browser()\n",
    "    url = \"https://www.jpl.nasa.gov/spaceimages/?search=&category=Mars\"\n",
    "    brrowser.visit(url)\n",
    "\n",
    "    html = brrowser.html\n",
    "    soup = BeautifulSoup(html, \"html.parser\")\n",
    "    \n",
    "    \n",
    "    chunk = soup.find(\"div\", class_ = \"carousel_container\")\n",
    "    link = chunk.find(\"a\")[\"data-fancybox-href\"]\n",
    "    imagelink = \"https://www.jpl.nasa.gov\" + str(link)\n",
    "\n",
    "    brrowser.quit()\n",
    "        \n",
    "    return imagelink\n"
   ]
  },
  {
   "cell_type": "code",
   "execution_count": 5,
   "metadata": {},
   "outputs": [],
   "source": [
    "def scrapeweather():\n",
    "    weatherurl = \"https://twitter.com/marswxreport?lang=en\"\n",
    "\n",
    "    browser = init_browser()\n",
    "    browser.visit(weatherurl)\n",
    "    \n",
    "    html = browser.html\n",
    "    soup = BeautifulSoup(html, \"html.parser\")\n",
    "    \n",
    "    chunk = soup.find(\"div\", class_ = \"js-tweet-text-container\")\n",
    "    text = chunk.find(\"p\").text\n",
    "    #browser.quit()\n",
    "    return text"
   ]
  },
  {
   "cell_type": "code",
   "execution_count": 15,
   "metadata": {},
   "outputs": [
    {
     "name": "stdout",
     "output_type": "stream",
     "text": [
      "InSight sol 119 (2019-03-28) low -97.4ºC (-143.3ºF) high -15.0ºC (4.9ºF)\n",
      "winds from the SW at 4.0 m/s (9.0 mph) gusting to 9.9 m/s (22.2 mph)\n",
      "pressure at 7.30 hPapic.twitter.com/d5nSamjabl\n"
     ]
    }
   ],
   "source": [
    "#test\n",
    "\n",
    "weatherText = scrapeweather()\n",
    "print(weatherText)"
   ]
  },
  {
   "cell_type": "code",
   "execution_count": 98,
   "metadata": {},
   "outputs": [],
   "source": [
    "def scrapehemi():\n",
    "    \n",
    "    url = \"https://astrogeology.usgs.gov/search/results?q=hemisphere+enhanced&k1=target&v1=Mars\"\n",
    "    hemilist = {}\n",
    "    browser = init_browser()\n",
    "    browser.visit(url)\n",
    "    \n",
    "    html = browser.html\n",
    "    soup = BeautifulSoup(html, \"html.parser\")\n",
    "    \n",
    "    \n",
    "    chunks = soup.find_all(\"div\", class_ = \"item\")\n",
    "    browser.quit()\n",
    "\n",
    "    for chunk in chunks:\n",
    "       \n",
    "        title = chunk.find('h3').text\n",
    "        \n",
    "        imglink = chunk.find('a', class_ = \"itemLink product-item\")[\"href\"]\n",
    "        #imglink = chunk.find(\"img\")[\"src\"]\n",
    "        hemiurl = \"https://astrogeology.usgs.gov\" + imglink       \n",
    "        #the image on the given page is lame and small, so I did a tedious thing and rerouted to the main page for each hemisphere to\n",
    "        #scrape the image on that page instead. \n",
    "        hemibrowser = init_browser()\n",
    "        hemibrowser.visit(hemiurl)\n",
    "        hemihtml = hemibrowser.html\n",
    "        \n",
    "        hemisoup = BeautifulSoup(hemihtml, \"html.parser\")\n",
    "        #hemidiv = hemisoup.find(\"div\", class_ =\"container\")\n",
    "        hemilink = hemisoup.find('img', class_ = \"wide-image\")[\"src\"]\n",
    "        hemilist[title] = \"https://astrogeology.usgs.gov\" + hemilink\n",
    "        hemibrowser.quit()\n",
    "        \n",
    "    return hemilist"
   ]
  },
  {
   "cell_type": "code",
   "execution_count": 90,
   "metadata": {},
   "outputs": [
    {
     "data": {
      "text/plain": [
       "{'Cerberus Hemisphere Enhanced': '/cache/images/cfa62af2557222a02478f1fcd781d445_cerberus_enhanced.tif_full.jpg',\n",
       " 'Schiaparelli Hemisphere Enhanced': '/cache/images/3cdd1cbf5e0813bba925c9030d13b62e_schiaparelli_enhanced.tif_full.jpg',\n",
       " 'Syrtis Major Hemisphere Enhanced': '/cache/images/ae209b4e408bb6c3e67b6af38168cf28_syrtis_major_enhanced.tif_full.jpg',\n",
       " 'Valles Marineris Hemisphere Enhanced': '/cache/images/7cf2da4bf549ed01c17f206327be4db7_valles_marineris_enhanced.tif_full.jpg'}"
      ]
     },
     "execution_count": 90,
     "metadata": {},
     "output_type": "execute_result"
    }
   ],
   "source": [
    "#test\n",
    "scrapehemi()"
   ]
  },
  {
   "cell_type": "code",
   "execution_count": 35,
   "metadata": {},
   "outputs": [],
   "source": [
    "#compressing all the scraping functions into one big function, and compiling the value as a dictionary\n",
    "def scrape():\n",
    "    scrapeDict = {}\n",
    "    newslist = scrapenews()\n",
    "    hemilist = scrapehemi()\n",
    "    scrapeDict[\"mars_news_title\"] = newslist[0]\n",
    "    scrapeDict[\"mars_news_summary\"] = newslist[1]\n",
    "    scrapeDict[\"featured_image\"] = scrapeimg()\n",
    "    scrapeDict[\"mars_weather\"] = scrapeweather()\n",
    "    scrapeDict[\"hemisphere_images1\"] = list(hemilist.values())[0]\n",
    "    scrapeDict[\"hemisphere_images2\"] = list(hemilist.values())[1]\n",
    "    scrapeDict[\"hemisphere_images3\"] = list(hemilist.values())[2]\n",
    "    scrapeDict[\"hemisphere_images4\"] = list(hemilist.values())[3]\n",
    "    \n",
    "    return scrapeDict\n",
    "\n"
   ]
  },
  {
   "cell_type": "code",
   "execution_count": 41,
   "metadata": {},
   "outputs": [
    {
     "ename": "AttributeError",
     "evalue": "'NoneType' object has no attribute 'find'",
     "output_type": "error",
     "traceback": [
      "\u001b[1;31m---------------------------------------------------------------------------\u001b[0m",
      "\u001b[1;31mAttributeError\u001b[0m                            Traceback (most recent call last)",
      "\u001b[1;32m<ipython-input-41-898346f6c61c>\u001b[0m in \u001b[0;36m<module>\u001b[1;34m()\u001b[0m\n\u001b[1;32m----> 1\u001b[1;33m \u001b[0mtesty\u001b[0m \u001b[1;33m=\u001b[0m \u001b[0mscrape\u001b[0m\u001b[1;33m(\u001b[0m\u001b[1;33m)\u001b[0m\u001b[1;33m\u001b[0m\u001b[0m\n\u001b[0m",
      "\u001b[1;32m<ipython-input-35-e1f10b29a9c1>\u001b[0m in \u001b[0;36mscrape\u001b[1;34m()\u001b[0m\n\u001b[0;32m      3\u001b[0m     \u001b[0mscrapeDict\u001b[0m \u001b[1;33m=\u001b[0m \u001b[1;33m{\u001b[0m\u001b[1;33m}\u001b[0m\u001b[1;33m\u001b[0m\u001b[0m\n\u001b[0;32m      4\u001b[0m     \u001b[0mnewslist\u001b[0m \u001b[1;33m=\u001b[0m \u001b[0mscrapenews\u001b[0m\u001b[1;33m(\u001b[0m\u001b[1;33m)\u001b[0m\u001b[1;33m\u001b[0m\u001b[0m\n\u001b[1;32m----> 5\u001b[1;33m     \u001b[0mhemilist\u001b[0m \u001b[1;33m=\u001b[0m \u001b[0mscrapehemi\u001b[0m\u001b[1;33m(\u001b[0m\u001b[1;33m)\u001b[0m\u001b[1;33m\u001b[0m\u001b[0m\n\u001b[0m\u001b[0;32m      6\u001b[0m     \u001b[0mscrapeDict\u001b[0m\u001b[1;33m[\u001b[0m\u001b[1;34m\"mars_news_title\"\u001b[0m\u001b[1;33m]\u001b[0m \u001b[1;33m=\u001b[0m \u001b[0mnewslist\u001b[0m\u001b[1;33m[\u001b[0m\u001b[1;36m0\u001b[0m\u001b[1;33m]\u001b[0m\u001b[1;33m\u001b[0m\u001b[0m\n\u001b[0;32m      7\u001b[0m     \u001b[0mscrapeDict\u001b[0m\u001b[1;33m[\u001b[0m\u001b[1;34m\"mars_news_summary\"\u001b[0m\u001b[1;33m]\u001b[0m \u001b[1;33m=\u001b[0m \u001b[0mnewslist\u001b[0m\u001b[1;33m[\u001b[0m\u001b[1;36m1\u001b[0m\u001b[1;33m]\u001b[0m\u001b[1;33m\u001b[0m\u001b[0m\n",
      "\u001b[1;32m<ipython-input-40-ec9e6ab8bf92>\u001b[0m in \u001b[0;36mscrapehemi\u001b[1;34m()\u001b[0m\n\u001b[0;32m     28\u001b[0m         \u001b[0mhemidiv\u001b[0m \u001b[1;33m=\u001b[0m \u001b[0mhemisoup\u001b[0m\u001b[1;33m.\u001b[0m\u001b[0mfind\u001b[0m\u001b[1;33m(\u001b[0m\u001b[1;34m\"div\"\u001b[0m\u001b[1;33m,\u001b[0m \u001b[0mclass_\u001b[0m \u001b[1;33m=\u001b[0m \u001b[1;34m\"wide-image-wrapper \"\u001b[0m\u001b[1;33m)\u001b[0m\u001b[1;33m\u001b[0m\u001b[0m\n\u001b[0;32m     29\u001b[0m \u001b[1;33m\u001b[0m\u001b[0m\n\u001b[1;32m---> 30\u001b[1;33m         \u001b[0mhemi\u001b[0m \u001b[1;33m=\u001b[0m \u001b[0mhemidiv\u001b[0m\u001b[1;33m.\u001b[0m\u001b[0mfind\u001b[0m\u001b[1;33m(\u001b[0m\u001b[1;34m\"img\"\u001b[0m\u001b[1;33m)\u001b[0m\u001b[1;33m[\u001b[0m\u001b[1;34m\"src\"\u001b[0m\u001b[1;33m]\u001b[0m\u001b[1;33m\u001b[0m\u001b[0m\n\u001b[0m\u001b[0;32m     31\u001b[0m \u001b[1;33m\u001b[0m\u001b[0m\n\u001b[0;32m     32\u001b[0m         \u001b[0mhemilist\u001b[0m\u001b[1;33m[\u001b[0m\u001b[0mtitle\u001b[0m\u001b[1;33m]\u001b[0m \u001b[1;33m=\u001b[0m \u001b[0mhemi\u001b[0m\u001b[1;33m\u001b[0m\u001b[0m\n",
      "\u001b[1;31mAttributeError\u001b[0m: 'NoneType' object has no attribute 'find'"
     ]
    }
   ],
   "source": [
    "test = scrape()"
   ]
  }
 ],
 "metadata": {
  "kernelspec": {
   "display_name": "Python 3",
   "language": "python",
   "name": "python3"
  },
  "language_info": {
   "codemirror_mode": {
    "name": "ipython",
    "version": 3
   },
   "file_extension": ".py",
   "mimetype": "text/x-python",
   "name": "python",
   "nbconvert_exporter": "python",
   "pygments_lexer": "ipython3",
   "version": "3.7.0"
  }
 },
 "nbformat": 4,
 "nbformat_minor": 2
}
