{
 "cells": [
  {
   "cell_type": "code",
   "execution_count": 1,
   "metadata": {},
   "outputs": [],
   "source": [
    "import csv\n",
    "import os\n",
    "import pandas as pd\n",
    "\n"
   ]
  },
  {
   "cell_type": "code",
   "execution_count": 2,
   "metadata": {},
   "outputs": [],
   "source": [
    "candidates = [] \n",
    "person = \"\"\n",
    "#this will become a 3d array, with the candidate name, total votes, and percentage of votes\n",
    "votecount = []\n",
    "percentage = []\n",
    "everything = []\n",
    "total = 0\n",
    "percent = 0.0\n",
    "winner = 0\n",
    "\n",
    "pollResults = open(\"Resources/pollResults.txt\", \"w+\")\n"
   ]
  },
  {
   "cell_type": "code",
   "execution_count": 3,
   "metadata": {},
   "outputs": [
    {
     "name": "stdout",
     "output_type": "stream",
     "text": [
      "[2218231, 704200, 492940, 105630]\n"
     ]
    }
   ],
   "source": [
    "\n",
    "with open('Resources/election_data.csv') as csvfile:\n",
    "    reader = csv.reader(csvfile)\n",
    "    for row in reader:\n",
    "        \n",
    "        if(row[0] != \"Voter ID\"): #loop ignores the first line in the excel file\n",
    "            total += 1\n",
    "            person = row[2]\n",
    "            #if candidate is already in list, adds another vote to their tally\n",
    "            if person in candidates:   \n",
    "                votecount[candidates.index(person)] += 1\n",
    "            #if candidate is not in the list, adds them to the list candidates, and sets its corresponding votecountvalue to 1\n",
    "            else:\n",
    "                candidates.append(person)\n",
    "                votecount.append(1)\n",
    "                   \n",
    "                \n",
    "print(votecount)"
   ]
  },
  {
   "cell_type": "code",
   "execution_count": 4,
   "metadata": {},
   "outputs": [
    {
     "name": "stdout",
     "output_type": "stream",
     "text": [
      "0\n"
     ]
    }
   ],
   "source": [
    "percentage = []\n",
    "m = 0\n",
    "n = 0\n",
    "for i in votecount:\n",
    "    percent = round((i/total)*100.0, 0)    \n",
    "    if (percent > winner):\n",
    "        winner = percent\n",
    "        n = m\n",
    "    m+= 1\n",
    "    percentage.append(str(percent) + \"%\")\n",
    "print(n)\n"
   ]
  },
  {
   "cell_type": "code",
   "execution_count": 6,
   "metadata": {
    "scrolled": true
   },
   "outputs": [
    {
     "name": "stdout",
     "output_type": "stream",
     "text": [
      "Election Results\n",
      "----------------------------------------------------\n",
      "Total Votes: 3521001\n",
      "----------------------------------------------------\n",
      "Khan: 63.0%% (2218231)\n",
      "Correy: 20.0%% (704200)\n",
      "Li: 14.0%% (492940)\n",
      "O'Tooley: 3.0%% (105630)\n",
      "----------------------------------------------------\n",
      "Winner: Khan\n"
     ]
    },
    {
     "data": {
      "text/plain": [
       "13"
      ]
     },
     "execution_count": 6,
     "metadata": {},
     "output_type": "execute_result"
    }
   ],
   "source": [
    "everything = list(zip(percentage, votecount))\n",
    "df = pd.DataFrame( data = everything, columns = ['Percent of Vote', 'Total Number of Votes'], index = candidates)\n",
    "\n",
    "print(\"Election Results\" + \"\\n----------------------------------------------------\")\n",
    "pollResults.write(\"Election Results\" + \"\\n----------------------------------------------------\")\n",
    "\n",
    "print(\"Total Votes: \" + str(total) + \"\\n----------------------------------------------------\")\n",
    "pollResults.write(\"\\n Total Votes: \" + str(total) + \"\\n----------------------------------------------------\")\n",
    "\n",
    "#print(df)\n",
    "#pollResults.write(df)\n",
    "\n",
    "for j in range(len(candidates)):\n",
    "    print(candidates[j] + \": \" + str(percentage[j]) + \"% \" + \"(\" + str(votecount[j]) + \")\")\n",
    "    pollResults.write(\"\\n\" + candidates[j] + \": \" + str(percentage[j]) + \"% \" + \"(\" + str(votecount[j]) + \")\")\n",
    "    \n",
    "print(\"----------------------------------------------------\")\n",
    "pollResults.write(\"\\n----------------------------------------------------\")\n",
    "        \n",
    "print(\"Winner: \" + candidates[n])\n",
    "pollResults.write(\"\\nWinner: \" + candidates[n])\n"
   ]
  },
  {
   "cell_type": "code",
   "execution_count": null,
   "metadata": {},
   "outputs": [],
   "source": []
  }
 ],
 "metadata": {
  "kernelspec": {
   "display_name": "Python 3",
   "language": "python",
   "name": "python3"
  },
  "language_info": {
   "codemirror_mode": {
    "name": "ipython",
    "version": 3
   },
   "file_extension": ".py",
   "mimetype": "text/x-python",
   "name": "python",
   "nbconvert_exporter": "python",
   "pygments_lexer": "ipython3",
   "version": "3.7.0"
  }
 },
 "nbformat": 4,
 "nbformat_minor": 2
}
