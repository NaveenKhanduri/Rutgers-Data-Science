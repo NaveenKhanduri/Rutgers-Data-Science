{
 "cells": [
  {
   "cell_type": "code",
   "execution_count": 1,
   "metadata": {},
   "outputs": [],
   "source": [
    "%matplotlib inline\n",
    "from matplotlib import style\n",
    "style.use('fivethirtyeight')\n",
    "import matplotlib.pyplot as plt"
   ]
  },
  {
   "cell_type": "code",
   "execution_count": 2,
   "metadata": {},
   "outputs": [],
   "source": [
    "import numpy as np\n",
    "import pandas as pd\n",
    "import itertools"
   ]
  },
  {
   "cell_type": "code",
   "execution_count": 3,
   "metadata": {},
   "outputs": [],
   "source": [
    "import datetime as dt"
   ]
  },
  {
   "cell_type": "markdown",
   "metadata": {},
   "source": [
    "# Reflect Tables into SQLAlchemy ORM"
   ]
  },
  {
   "cell_type": "code",
   "execution_count": 4,
   "metadata": {},
   "outputs": [],
   "source": [
    "# Python SQL toolkit and Object Relational Mapper\n",
    "import sqlalchemy\n",
    "from sqlalchemy.ext.automap import automap_base\n",
    "from sqlalchemy.orm import Session\n",
    "from sqlalchemy import create_engine, func, inspect"
   ]
  },
  {
   "cell_type": "code",
   "execution_count": 5,
   "metadata": {},
   "outputs": [],
   "source": [
    "engine = create_engine(\"sqlite:///Resources/hawaii.sqlite\")\n"
   ]
  },
  {
   "cell_type": "code",
   "execution_count": 6,
   "metadata": {},
   "outputs": [],
   "source": [
    "# reflect an existing database into a new model\n",
    "Base = automap_base()\n",
    "# reflect the tables\n",
    "Base.prepare(engine, reflect=True)"
   ]
  },
  {
   "cell_type": "code",
   "execution_count": 7,
   "metadata": {},
   "outputs": [
    {
     "data": {
      "text/plain": [
       "['measurement', 'station']"
      ]
     },
     "execution_count": 7,
     "metadata": {},
     "output_type": "execute_result"
    }
   ],
   "source": [
    "# We can view all of the classes that automap found\n",
    "Base.classes.keys()"
   ]
  },
  {
   "cell_type": "code",
   "execution_count": 8,
   "metadata": {},
   "outputs": [],
   "source": [
    "# Save references to each table\n",
    "Measurement = Base.classes.measurement\n",
    "Station = Base.classes.station"
   ]
  },
  {
   "cell_type": "code",
   "execution_count": 9,
   "metadata": {},
   "outputs": [],
   "source": [
    "# Create our session (link) from Python to the DB\n",
    "session = Session(engine)"
   ]
  },
  {
   "cell_type": "markdown",
   "metadata": {},
   "source": [
    "# Exploratory Climate Analysis"
   ]
  },
  {
   "cell_type": "code",
   "execution_count": 331,
   "metadata": {},
   "outputs": [
    {
     "data": {
      "text/html": [
       "<div>\n",
       "<style scoped>\n",
       "    .dataframe tbody tr th:only-of-type {\n",
       "        vertical-align: middle;\n",
       "    }\n",
       "\n",
       "    .dataframe tbody tr th {\n",
       "        vertical-align: top;\n",
       "    }\n",
       "\n",
       "    .dataframe thead th {\n",
       "        text-align: right;\n",
       "    }\n",
       "</style>\n",
       "<table border=\"1\" class=\"dataframe\">\n",
       "  <thead>\n",
       "    <tr style=\"text-align: right;\">\n",
       "      <th></th>\n",
       "      <th>station</th>\n",
       "      <th>name</th>\n",
       "      <th>latitude</th>\n",
       "      <th>longitude</th>\n",
       "      <th>elevation</th>\n",
       "    </tr>\n",
       "  </thead>\n",
       "  <tbody>\n",
       "    <tr>\n",
       "      <th>0</th>\n",
       "      <td>USC00519397</td>\n",
       "      <td>WAIKIKI 717.2, HI US</td>\n",
       "      <td>21.27160</td>\n",
       "      <td>-157.81680</td>\n",
       "      <td>3.0</td>\n",
       "    </tr>\n",
       "    <tr>\n",
       "      <th>1</th>\n",
       "      <td>USC00513117</td>\n",
       "      <td>KANEOHE 838.1, HI US</td>\n",
       "      <td>21.42340</td>\n",
       "      <td>-157.80150</td>\n",
       "      <td>14.6</td>\n",
       "    </tr>\n",
       "    <tr>\n",
       "      <th>2</th>\n",
       "      <td>USC00514830</td>\n",
       "      <td>KUALOA RANCH HEADQUARTERS 886.9, HI US</td>\n",
       "      <td>21.52130</td>\n",
       "      <td>-157.83740</td>\n",
       "      <td>7.0</td>\n",
       "    </tr>\n",
       "    <tr>\n",
       "      <th>3</th>\n",
       "      <td>USC00517948</td>\n",
       "      <td>PEARL CITY, HI US</td>\n",
       "      <td>21.39340</td>\n",
       "      <td>-157.97510</td>\n",
       "      <td>11.9</td>\n",
       "    </tr>\n",
       "    <tr>\n",
       "      <th>4</th>\n",
       "      <td>USC00518838</td>\n",
       "      <td>UPPER WAHIAWA 874.3, HI US</td>\n",
       "      <td>21.49920</td>\n",
       "      <td>-158.01110</td>\n",
       "      <td>306.6</td>\n",
       "    </tr>\n",
       "    <tr>\n",
       "      <th>5</th>\n",
       "      <td>USC00519523</td>\n",
       "      <td>WAIMANALO EXPERIMENTAL FARM, HI US</td>\n",
       "      <td>21.33556</td>\n",
       "      <td>-157.71139</td>\n",
       "      <td>19.5</td>\n",
       "    </tr>\n",
       "    <tr>\n",
       "      <th>6</th>\n",
       "      <td>USC00519281</td>\n",
       "      <td>WAIHEE 837.5, HI US</td>\n",
       "      <td>21.45167</td>\n",
       "      <td>-157.84889</td>\n",
       "      <td>32.9</td>\n",
       "    </tr>\n",
       "    <tr>\n",
       "      <th>7</th>\n",
       "      <td>USC00511918</td>\n",
       "      <td>HONOLULU OBSERVATORY 702.2, HI US</td>\n",
       "      <td>21.31520</td>\n",
       "      <td>-157.99920</td>\n",
       "      <td>0.9</td>\n",
       "    </tr>\n",
       "    <tr>\n",
       "      <th>8</th>\n",
       "      <td>USC00516128</td>\n",
       "      <td>MANOA LYON ARBO 785.2, HI US</td>\n",
       "      <td>21.33310</td>\n",
       "      <td>-157.80250</td>\n",
       "      <td>152.4</td>\n",
       "    </tr>\n",
       "  </tbody>\n",
       "</table>\n",
       "</div>"
      ],
      "text/plain": [
       "       station                                    name  latitude  longitude  \\\n",
       "0  USC00519397                    WAIKIKI 717.2, HI US  21.27160 -157.81680   \n",
       "1  USC00513117                    KANEOHE 838.1, HI US  21.42340 -157.80150   \n",
       "2  USC00514830  KUALOA RANCH HEADQUARTERS 886.9, HI US  21.52130 -157.83740   \n",
       "3  USC00517948                       PEARL CITY, HI US  21.39340 -157.97510   \n",
       "4  USC00518838              UPPER WAHIAWA 874.3, HI US  21.49920 -158.01110   \n",
       "5  USC00519523      WAIMANALO EXPERIMENTAL FARM, HI US  21.33556 -157.71139   \n",
       "6  USC00519281                     WAIHEE 837.5, HI US  21.45167 -157.84889   \n",
       "7  USC00511918       HONOLULU OBSERVATORY 702.2, HI US  21.31520 -157.99920   \n",
       "8  USC00516128            MANOA LYON ARBO 785.2, HI US  21.33310 -157.80250   \n",
       "\n",
       "   elevation  \n",
       "0        3.0  \n",
       "1       14.6  \n",
       "2        7.0  \n",
       "3       11.9  \n",
       "4      306.6  \n",
       "5       19.5  \n",
       "6       32.9  \n",
       "7        0.9  \n",
       "8      152.4  "
      ]
     },
     "execution_count": 331,
     "metadata": {},
     "output_type": "execute_result"
    }
   ],
   "source": [
    "# Design a query to retrieve the last 12 months of precipitation data and plot the results\n",
    "measuredf = pd.DataFrame(pd.read_csv(\"Resources/hawaii_measurements.csv\"))\n",
    "# Calculate the date 1 year ago from the last data point in the database\n",
    "stationdf = pd.DataFrame(pd.read_csv(\"Resources/hawaii_stations.csv\"))\n",
    "# Perform a query to retrieve the data and precipitation scores\n",
    "df = measuredf.merge(stationdf, on = \"station\")\n",
    "# Save the query results as a Pandas DataFrame and set the index to the date column\n",
    "# Sort the dataframe by date\n",
    "\n",
    "# Use Pandas Plotting with Matplotlib to plot the data\n",
    "\n",
    "start_date = \"2016-01-01\"\n",
    "end_date = \"2017-01-01\"\n",
    "stationdf"
   ]
  },
  {
   "cell_type": "code",
   "execution_count": 262,
   "metadata": {},
   "outputs": [],
   "source": [
    "# created a class for precipitation data, with callable objects and functions to make everything for \n",
    "#precipitation related data in one place\n",
    "\n",
    "class precipitation:\n",
    "    def __init__(self, start_date, end_date):\n",
    "        self.start_date = start_date\n",
    "        self.end_date = end_date\n",
    "    def dates(self):\n",
    "        date1 =  session.query(Measurement.date).order_by(Measurement.date).filter(Measurement.date >= self.start_date).\\\n",
    "        filter(Measurement.date <= self.end_date).distinct()\n",
    "        return [date[0] for date in date1]\n",
    "    def prcp(self):\n",
    "        #takes average temperature from all the station readings for that particular date\n",
    "        prlist = []\n",
    "        for d in precipitation.dates(self):\n",
    "            prlist.append(session.query(func.avg(Measurement.prcp)).\\\n",
    "                          filter(Measurement.date == d).all())\n",
    "        return [pr[0][0] for pr in prlist]\n",
    "    def maxPrcp(self):\n",
    "        return session.query(func.max(Measurement.prcp)).filter(Measurement.date >= self.start_date).filter(Measurement.date <= self.end_date).all()[0][0]\n",
    "    def minPrcp(self):\n",
    "        return session.query(func.min(Measurement.prcp)).filter(Measurement.date >= self.start_date).filter(Measurement.date <= self.end_date).all()[0][0]\n",
    "    def avgPrcp(self):\n",
    "        #average precipitation over all stations over given time frame\n",
    "        return session.query(func.avg(Measurement.prcp)).filter(Measurement.date >= self.start_date).filter(Measurement.date <= self.end_date).all()\n",
    "    \n",
    "    #this is for later on in the code. \n",
    "    def stationPrcp(self):\n",
    "        stations = session.query(Measurement.station).distinct()\n",
    "        stations = [station[0] for station in stations]\n",
    "        stationDict = {}\n",
    "        \n",
    "        for station in stations:\n",
    "            rainDict = []\n",
    "            for date in precipitation.dates(self):  \n",
    "                data = session.query(Measurement.prcp).filter(Measurement.date == date).\\\n",
    "                filter(Measurement.station == station).all()\n",
    "                if(len(data) == 0):\n",
    "                    rainDict.append(0.0)\n",
    "                else:\n",
    "                    rainDict.append(data[0][0])                     \n",
    "            rainDict = [0 if v is None else v for v in rainDict ]\n",
    "            stationDict[station] = rainDict\n",
    "            \n",
    "        return stationDict\n",
    "\n"
   ]
  },
  {
   "cell_type": "code",
   "execution_count": 263,
   "metadata": {},
   "outputs": [],
   "source": [
    "rainData = precipitation(start_date, end_date)\n",
    "dateList = rainData.dates()\n",
    "prcpList = rainData.prcp()\n",
    "prcpList = [0 if v is None else v for v in prcpList ]\n",
    "raindf = pd.DataFrame({\"Average Precipitation Level\": prcpList}, index = dateList)\n",
    "\n"
   ]
  },
  {
   "cell_type": "code",
   "execution_count": 265,
   "metadata": {},
   "outputs": [
    {
     "data": {
      "image/png": "[encoded data removed]",
      "text/plain": [
       "<Figure size 1152x864 with 1 Axes>"
      ]
     },
     "metadata": {
      "needs_background": "light"
     },
     "output_type": "display_data"
    }
   ],
   "source": [
    "\n",
    "fig, ax = plt.subplots(figsize = (16, 12))\n",
    "ax.bar(dateList, prcpList, width = 0.8)\n",
    "ax.set_xlabel(\"Date\")\n",
    "ax.set_ylabel(\"Precipitation Levels\")\n",
    "plt.show()"
   ]
  },
  {
   "cell_type": "markdown",
   "metadata": {},
   "source": [
    "![precipitation](Images/precipitation.png)\n"
   ]
  },
  {
   "cell_type": "code",
   "execution_count": 62,
   "metadata": {},
   "outputs": [
    {
     "data": {
      "text/plain": [
       "count    18103.000000\n",
       "mean         0.160644\n",
       "std          0.468746\n",
       "min          0.000000\n",
       "25%          0.000000\n",
       "50%          0.010000\n",
       "75%          0.110000\n",
       "max         11.530000\n",
       "Name: prcp, dtype: float64"
      ]
     },
     "execution_count": 62,
     "metadata": {},
     "output_type": "execute_result"
    }
   ],
   "source": [
    "# Use Pandas to calcualte the summary statistics for the precipitation data\n",
    "df[\"prcp\"].describe()\n"
   ]
  },
  {
   "cell_type": "markdown",
   "metadata": {},
   "source": [
    "![describe](Images/describe.png)"
   ]
  },
  {
   "cell_type": "code",
   "execution_count": 363,
   "metadata": {},
   "outputs": [
    {
     "data": {
      "text/plain": [
       "9"
      ]
     },
     "execution_count": 363,
     "metadata": {},
     "output_type": "execute_result"
    }
   ],
   "source": [
    "# Design a query to show how many stations are available in this dataset?\n",
    "stationSet = session.query(func.count(Station.station)).all()[0][0]\n",
    "stationSet"
   ]
  },
  {
   "cell_type": "code",
   "execution_count": 64,
   "metadata": {},
   "outputs": [
    {
     "data": {
      "text/html": [
       "<div>\n",
       "<style scoped>\n",
       "    .dataframe tbody tr th:only-of-type {\n",
       "        vertical-align: middle;\n",
       "    }\n",
       "\n",
       "    .dataframe tbody tr th {\n",
       "        vertical-align: top;\n",
       "    }\n",
       "\n",
       "    .dataframe thead th {\n",
       "        text-align: right;\n",
       "    }\n",
       "</style>\n",
       "<table border=\"1\" class=\"dataframe\">\n",
       "  <thead>\n",
       "    <tr style=\"text-align: right;\">\n",
       "      <th></th>\n",
       "      <th>station</th>\n",
       "    </tr>\n",
       "  </thead>\n",
       "  <tbody>\n",
       "    <tr>\n",
       "      <th>USC00519281</th>\n",
       "      <td>2772</td>\n",
       "    </tr>\n",
       "    <tr>\n",
       "      <th>USC00519397</th>\n",
       "      <td>2724</td>\n",
       "    </tr>\n",
       "    <tr>\n",
       "      <th>USC00513117</th>\n",
       "      <td>2709</td>\n",
       "    </tr>\n",
       "    <tr>\n",
       "      <th>USC00519523</th>\n",
       "      <td>2669</td>\n",
       "    </tr>\n",
       "    <tr>\n",
       "      <th>USC00516128</th>\n",
       "      <td>2612</td>\n",
       "    </tr>\n",
       "    <tr>\n",
       "      <th>USC00514830</th>\n",
       "      <td>2202</td>\n",
       "    </tr>\n",
       "    <tr>\n",
       "      <th>USC00511918</th>\n",
       "      <td>1979</td>\n",
       "    </tr>\n",
       "    <tr>\n",
       "      <th>USC00517948</th>\n",
       "      <td>1372</td>\n",
       "    </tr>\n",
       "    <tr>\n",
       "      <th>USC00518838</th>\n",
       "      <td>511</td>\n",
       "    </tr>\n",
       "  </tbody>\n",
       "</table>\n",
       "</div>"
      ],
      "text/plain": [
       "             station\n",
       "USC00519281     2772\n",
       "USC00519397     2724\n",
       "USC00513117     2709\n",
       "USC00519523     2669\n",
       "USC00516128     2612\n",
       "USC00514830     2202\n",
       "USC00511918     1979\n",
       "USC00517948     1372\n",
       "USC00518838      511"
      ]
     },
     "execution_count": 64,
     "metadata": {},
     "output_type": "execute_result"
    }
   ],
   "source": [
    "# What are the most active stations? (i.e. what stations have the most rows)?\n",
    "# List the stations and the counts in descending order.\n",
    "stationcount = pd.DataFrame(df[\"station\"].value_counts())\n",
    "stationcount.sort_values(by = \"station\", ascending = False)\n"
   ]
  },
  {
   "cell_type": "code",
   "execution_count": 367,
   "metadata": {},
   "outputs": [
    {
     "data": {
      "text/plain": [
       "'USC00519281'"
      ]
     },
     "execution_count": 367,
     "metadata": {},
     "output_type": "execute_result"
    }
   ],
   "source": [
    "# Using the station id from the previous query, calculate the lowest temperature recorded, \n",
    "# highest temperature recorded, and average temperature most active station?\n",
    "stationcount.reset_index(inplace = True)\n",
    "popStation = stationcount[\"index\"][0]\n"
   ]
  },
  {
   "cell_type": "code",
   "execution_count": 370,
   "metadata": {},
   "outputs": [],
   "source": [
    "# Choose the station with the highest number of temperature observations.\n",
    "# Query the last 12 months of temperature observation data for this station and plot the results as a histogram\n",
    "inspector = inspect(engine)\n",
    "inspector.get_table_names()\n",
    "\n",
    "columns = inspector.get_columns(\"station\")\n"
   ]
  },
  {
   "cell_type": "markdown",
   "metadata": {},
   "source": [
    "![precipitation](Images/station-histogram.png)"
   ]
  },
  {
   "cell_type": "code",
   "execution_count": 277,
   "metadata": {},
   "outputs": [],
   "source": [
    "# This function called `calc_temps` will accept start date and end date in the format '%Y-%m-%d' \n",
    "# and return the minimum, average, and maximum temperatures for that range of dates\n",
    "\n",
    "class calc_temps:\n",
    "    \n",
    "    \"\"\"To make things overall a bit easier, I just created a class for tempData, so that way there's less typing in later cells\n",
    "    \"\"\"\n",
    "    def __init__(self, start_date, end_date):\n",
    "        self.start_date = start_date\n",
    "        self.end_date = end_date\n",
    "    def dateList(self):\n",
    "        dates = session.query(Measurement.date).filter(Measurement.date >= self.start_date).filter(Measurement.date <= self.end_date).distinct()\n",
    "        return [date[0] for date in dates]\n",
    "    def minTemp(self):\n",
    "        return session.query(func.min(Measurement.tobs)).filter(Measurement.date >= self.start_date).filter(Measurement.date <= self.end_date).all()\n",
    "    def maxTemp(self):\n",
    "        return session.query(func.max(Measurement.tobs)).filter(Measurement.date >= self.start_date).filter(Measurement.date <= self.end_date).all()\n",
    "    def avgTemp(self):\n",
    "        return session.query(func.avg(Measurement.tobs)).filter(Measurement.date >= self.start_date).filter(Measurement.date <= self.end_date).all()\n",
    "    def tempData(self):\n",
    "        #average temperature across all stations\n",
    "        temp = []\n",
    "        for date in calc_temps.dateList(self):\n",
    "            temp.append(session.query(func.avg(Measurement.tobs)).filter(Measurement.date == date).all()[0][0])\n",
    "        return temp\n",
    "    \n",
    "    def tempStats(self):    \n",
    "        stations = session.query(Measurement.station).distinct()\n",
    "        stations = [station[0] for station in stations]\n",
    "        stationDict = {}       \n",
    "        for station in stations:\n",
    "            tempDict = []\n",
    "            for date in calc_temps.dateList(self):  \n",
    "                data = session.query(Measurement.tobs).filter(Measurement.date == date).\\\n",
    "                filter(Measurement.station == station).all()\n",
    "                if(len(data) == 0):\n",
    "                    tempDict.append(0.00)\n",
    "                else:\n",
    "                    tempDict.append(data[0][0])                     \n",
    "            tempDict = [0 if v is None else v for v in tempDict ]\n",
    "            stationDict[station] = tempDict            \n",
    "        return stationDict\n",
    "    def stationAverages(self):\n",
    "        stations = session.query(Measurement.station).distinct()\n",
    "        stations = [station[0] for station in stations]\n",
    "        stationDict = {}       \n",
    "        for station in stations:\n",
    "            tempDict = []  \n",
    "            data = session.query(func.avg(Measurement.prcp)).filter(Measurement.date >= self.start_date).\\\n",
    "            filter(Measurement.date <= self.end_date).filter(Measurement.station == station).all()\n",
    "            if(len(data) == 0):\n",
    "                tempDict.append(0.00)\n",
    "            else:\n",
    "                tempDict.append(data[0][0])                     \n",
    "            tempDict = [0 if v is None else v for v in tempDict]\n",
    "    "
   ]
  },
  {
   "cell_type": "code",
   "execution_count": 284,
   "metadata": {},
   "outputs": [
    {
     "data": {
      "text/html": [
       "<div>\n",
       "<style scoped>\n",
       "    .dataframe tbody tr th:only-of-type {\n",
       "        vertical-align: middle;\n",
       "    }\n",
       "\n",
       "    .dataframe tbody tr th {\n",
       "        vertical-align: top;\n",
       "    }\n",
       "\n",
       "    .dataframe thead th {\n",
       "        text-align: right;\n",
       "    }\n",
       "</style>\n",
       "<table border=\"1\" class=\"dataframe\">\n",
       "  <thead>\n",
       "    <tr style=\"text-align: right;\">\n",
       "      <th></th>\n",
       "      <th>USC00519397</th>\n",
       "      <th>USC00513117</th>\n",
       "      <th>USC00514830</th>\n",
       "      <th>USC00517948</th>\n",
       "      <th>USC00518838</th>\n",
       "      <th>USC00519523</th>\n",
       "      <th>USC00519281</th>\n",
       "      <th>USC00511918</th>\n",
       "      <th>USC00516128</th>\n",
       "      <th>Average</th>\n",
       "    </tr>\n",
       "  </thead>\n",
       "  <tbody>\n",
       "    <tr>\n",
       "      <th>2017-02-28</th>\n",
       "      <td>74.0</td>\n",
       "      <td>73.0</td>\n",
       "      <td>73.0</td>\n",
       "      <td>72.0</td>\n",
       "      <td>0.0</td>\n",
       "      <td>73.0</td>\n",
       "      <td>72.0</td>\n",
       "      <td>0.0</td>\n",
       "      <td>69.0</td>\n",
       "      <td>72.285714</td>\n",
       "    </tr>\n",
       "    <tr>\n",
       "      <th>2017-03-01</th>\n",
       "      <td>66.0</td>\n",
       "      <td>72.0</td>\n",
       "      <td>71.0</td>\n",
       "      <td>66.0</td>\n",
       "      <td>0.0</td>\n",
       "      <td>73.0</td>\n",
       "      <td>71.0</td>\n",
       "      <td>0.0</td>\n",
       "      <td>64.0</td>\n",
       "      <td>69.000000</td>\n",
       "    </tr>\n",
       "    <tr>\n",
       "      <th>2017-03-02</th>\n",
       "      <td>73.0</td>\n",
       "      <td>73.0</td>\n",
       "      <td>0.0</td>\n",
       "      <td>73.0</td>\n",
       "      <td>0.0</td>\n",
       "      <td>75.0</td>\n",
       "      <td>73.0</td>\n",
       "      <td>0.0</td>\n",
       "      <td>72.0</td>\n",
       "      <td>73.166667</td>\n",
       "    </tr>\n",
       "    <tr>\n",
       "      <th>2017-03-03</th>\n",
       "      <td>69.0</td>\n",
       "      <td>73.0</td>\n",
       "      <td>73.0</td>\n",
       "      <td>70.0</td>\n",
       "      <td>0.0</td>\n",
       "      <td>74.0</td>\n",
       "      <td>72.0</td>\n",
       "      <td>0.0</td>\n",
       "      <td>78.0</td>\n",
       "      <td>72.714286</td>\n",
       "    </tr>\n",
       "    <tr>\n",
       "      <th>2017-03-04</th>\n",
       "      <td>74.0</td>\n",
       "      <td>76.0</td>\n",
       "      <td>0.0</td>\n",
       "      <td>0.0</td>\n",
       "      <td>0.0</td>\n",
       "      <td>77.0</td>\n",
       "      <td>77.0</td>\n",
       "      <td>0.0</td>\n",
       "      <td>70.0</td>\n",
       "      <td>74.800000</td>\n",
       "    </tr>\n",
       "    <tr>\n",
       "      <th>2017-03-05</th>\n",
       "      <td>71.0</td>\n",
       "      <td>70.0</td>\n",
       "      <td>0.0</td>\n",
       "      <td>0.0</td>\n",
       "      <td>0.0</td>\n",
       "      <td>0.0</td>\n",
       "      <td>73.0</td>\n",
       "      <td>0.0</td>\n",
       "      <td>68.0</td>\n",
       "      <td>70.500000</td>\n",
       "    </tr>\n",
       "    <tr>\n",
       "      <th>2017-03-06</th>\n",
       "      <td>69.0</td>\n",
       "      <td>66.0</td>\n",
       "      <td>74.0</td>\n",
       "      <td>67.0</td>\n",
       "      <td>0.0</td>\n",
       "      <td>69.0</td>\n",
       "      <td>67.0</td>\n",
       "      <td>0.0</td>\n",
       "      <td>76.0</td>\n",
       "      <td>69.714286</td>\n",
       "    </tr>\n",
       "    <tr>\n",
       "      <th>2017-03-07</th>\n",
       "      <td>68.0</td>\n",
       "      <td>65.0</td>\n",
       "      <td>74.0</td>\n",
       "      <td>67.0</td>\n",
       "      <td>0.0</td>\n",
       "      <td>0.0</td>\n",
       "      <td>62.0</td>\n",
       "      <td>0.0</td>\n",
       "      <td>72.0</td>\n",
       "      <td>68.000000</td>\n",
       "    </tr>\n",
       "    <tr>\n",
       "      <th>2017-03-08</th>\n",
       "      <td>71.0</td>\n",
       "      <td>70.0</td>\n",
       "      <td>74.0</td>\n",
       "      <td>67.0</td>\n",
       "      <td>0.0</td>\n",
       "      <td>0.0</td>\n",
       "      <td>64.0</td>\n",
       "      <td>0.0</td>\n",
       "      <td>68.0</td>\n",
       "      <td>69.000000</td>\n",
       "    </tr>\n",
       "    <tr>\n",
       "      <th>2017-03-09</th>\n",
       "      <td>72.0</td>\n",
       "      <td>67.0</td>\n",
       "      <td>69.0</td>\n",
       "      <td>68.0</td>\n",
       "      <td>0.0</td>\n",
       "      <td>70.0</td>\n",
       "      <td>67.0</td>\n",
       "      <td>0.0</td>\n",
       "      <td>72.0</td>\n",
       "      <td>69.285714</td>\n",
       "    </tr>\n",
       "    <tr>\n",
       "      <th>2017-03-10</th>\n",
       "      <td>68.0</td>\n",
       "      <td>68.0</td>\n",
       "      <td>75.0</td>\n",
       "      <td>68.0</td>\n",
       "      <td>0.0</td>\n",
       "      <td>69.0</td>\n",
       "      <td>66.0</td>\n",
       "      <td>0.0</td>\n",
       "      <td>65.0</td>\n",
       "      <td>68.428571</td>\n",
       "    </tr>\n",
       "    <tr>\n",
       "      <th>2017-03-11</th>\n",
       "      <td>71.0</td>\n",
       "      <td>68.0</td>\n",
       "      <td>0.0</td>\n",
       "      <td>0.0</td>\n",
       "      <td>0.0</td>\n",
       "      <td>81.0</td>\n",
       "      <td>81.0</td>\n",
       "      <td>0.0</td>\n",
       "      <td>82.0</td>\n",
       "      <td>76.600000</td>\n",
       "    </tr>\n",
       "    <tr>\n",
       "      <th>2017-03-12</th>\n",
       "      <td>74.0</td>\n",
       "      <td>70.0</td>\n",
       "      <td>80.0</td>\n",
       "      <td>0.0</td>\n",
       "      <td>0.0</td>\n",
       "      <td>74.0</td>\n",
       "      <td>69.0</td>\n",
       "      <td>0.0</td>\n",
       "      <td>0.0</td>\n",
       "      <td>73.400000</td>\n",
       "    </tr>\n",
       "    <tr>\n",
       "      <th>2017-03-13</th>\n",
       "      <td>71.0</td>\n",
       "      <td>70.0</td>\n",
       "      <td>77.0</td>\n",
       "      <td>69.0</td>\n",
       "      <td>0.0</td>\n",
       "      <td>69.0</td>\n",
       "      <td>66.0</td>\n",
       "      <td>0.0</td>\n",
       "      <td>69.0</td>\n",
       "      <td>70.142857</td>\n",
       "    </tr>\n",
       "    <tr>\n",
       "      <th>2017-03-14</th>\n",
       "      <td>71.0</td>\n",
       "      <td>70.0</td>\n",
       "      <td>77.0</td>\n",
       "      <td>73.0</td>\n",
       "      <td>0.0</td>\n",
       "      <td>74.0</td>\n",
       "      <td>67.0</td>\n",
       "      <td>0.0</td>\n",
       "      <td>75.0</td>\n",
       "      <td>72.428571</td>\n",
       "    </tr>\n",
       "  </tbody>\n",
       "</table>\n",
       "</div>"
      ],
      "text/plain": [
       "            USC00519397  USC00513117  USC00514830  USC00517948  USC00518838  \\\n",
       "2017-02-28         74.0         73.0         73.0         72.0          0.0   \n",
       "2017-03-01         66.0         72.0         71.0         66.0          0.0   \n",
       "2017-03-02         73.0         73.0          0.0         73.0          0.0   \n",
       "2017-03-03         69.0         73.0         73.0         70.0          0.0   \n",
       "2017-03-04         74.0         76.0          0.0          0.0          0.0   \n",
       "2017-03-05         71.0         70.0          0.0          0.0          0.0   \n",
       "2017-03-06         69.0         66.0         74.0         67.0          0.0   \n",
       "2017-03-07         68.0         65.0         74.0         67.0          0.0   \n",
       "2017-03-08         71.0         70.0         74.0         67.0          0.0   \n",
       "2017-03-09         72.0         67.0         69.0         68.0          0.0   \n",
       "2017-03-10         68.0         68.0         75.0         68.0          0.0   \n",
       "2017-03-11         71.0         68.0          0.0          0.0          0.0   \n",
       "2017-03-12         74.0         70.0         80.0          0.0          0.0   \n",
       "2017-03-13         71.0         70.0         77.0         69.0          0.0   \n",
       "2017-03-14         71.0         70.0         77.0         73.0          0.0   \n",
       "\n",
       "            USC00519523  USC00519281  USC00511918  USC00516128    Average  \n",
       "2017-02-28         73.0         72.0          0.0         69.0  72.285714  \n",
       "2017-03-01         73.0         71.0          0.0         64.0  69.000000  \n",
       "2017-03-02         75.0         73.0          0.0         72.0  73.166667  \n",
       "2017-03-03         74.0         72.0          0.0         78.0  72.714286  \n",
       "2017-03-04         77.0         77.0          0.0         70.0  74.800000  \n",
       "2017-03-05          0.0         73.0          0.0         68.0  70.500000  \n",
       "2017-03-06         69.0         67.0          0.0         76.0  69.714286  \n",
       "2017-03-07          0.0         62.0          0.0         72.0  68.000000  \n",
       "2017-03-08          0.0         64.0          0.0         68.0  69.000000  \n",
       "2017-03-09         70.0         67.0          0.0         72.0  69.285714  \n",
       "2017-03-10         69.0         66.0          0.0         65.0  68.428571  \n",
       "2017-03-11         81.0         81.0          0.0         82.0  76.600000  \n",
       "2017-03-12         74.0         69.0          0.0          0.0  73.400000  \n",
       "2017-03-13         69.0         66.0          0.0         69.0  70.142857  \n",
       "2017-03-14         74.0         67.0          0.0         75.0  72.428571  "
      ]
     },
     "execution_count": 284,
     "metadata": {},
     "output_type": "execute_result"
    }
   ],
   "source": [
    "# Use your previous function `calc_temps` to calculate the tmin, tavg, and tmax \n",
    "# for your trip using the previous year's data for those same dates.\n",
    "date1 = \"-02-28\"\n",
    "date2 = \"-03-14\"\n",
    "temp = calc_temps(\"2017\" + date1, \"2017\" + date2)\n",
    "x_date = temp.dateList()\n",
    "y_temp = temp.tempData()\n",
    "y_err = temp.maxTemp()[0][0]- temp.minTemp()[0][0]\n",
    "\n",
    "temperatures = pd.DataFrame(temp.tempStats(), index = x_date)\n",
    "temperatures[\"Average\"] = y_temp\n",
    "temperatures"
   ]
  },
  {
   "cell_type": "code",
   "execution_count": 289,
   "metadata": {},
   "outputs": [
    {
     "data": {
      "image/png": "[encoded data removed]",
      "text/plain": [
       "<Figure size 1152x864 with 1 Axes>"
      ]
     },
     "metadata": {
      "needs_background": "light"
     },
     "output_type": "display_data"
    }
   ],
   "source": [
    "# Plot the results from your previous query as a bar chart. \n",
    "# Use \"Trip Avg Temp\" as your Title\n",
    "# Use the average temperature for the y value\n",
    "# Use the peak-to-peak (tmax-tmin) value as the y error bar (yerr)\n",
    "fig, ax = plt.subplots()\n",
    "ax.plot(x_date, temperatures[\"Average\"], color = \"green\")\n",
    "temperatures.plot(ax = ax, kind = \"bar\", colormap = \"prism\", alpha = .5, figsize = (16,12), width = 1)\n",
    "ax.set_xlabel(\"date\")\n",
    "ax.set_ylabel(\"temperature\")\n",
    "ax.set_title(\"Average Temperature By Station\")\n",
    "ax.set_xticks(np.arange(0,len(x_date)))\n",
    "ax.set_xticklabels(x_date[::-1], rotation = 70)\n",
    "plt.show()\n"
   ]
  },
  {
   "cell_type": "code",
   "execution_count": 292,
   "metadata": {},
   "outputs": [
    {
     "data": {
      "image/png": "[encoded data removed]",
      "text/plain": [
       "<Figure size 1152x864 with 1 Axes>"
      ]
     },
     "metadata": {
      "needs_background": "light"
     },
     "output_type": "display_data"
    }
   ],
   "source": [
    "# Calculate the rainfall per weather station for your trip dates using the previous year's matching dates.\n",
    "# Sort this in descending order by precipitation amount and list the station, name, latitude, longitude, and elevation\n",
    "rainData = precipitation(\"2017\" + date1, \"2017\" + date2)\n",
    "dates = rainData.dates()\n",
    "stationRain = rainData.stationPrcp()\n",
    "stationRain = pd.DataFrame(stationRain, index = dates)\n",
    "stationRain[\"average rain\"] = rainData.prcp()\n",
    "\n",
    "#average rainfall by station\n",
    "\n",
    "markers = itertools.cycle(('^', '+', '.', 'o', '*', 'x', '1', 'v', '$*$', 's')) \n",
    "\n",
    "fig, ax = plt.subplots()\n",
    "ddd.plot(ax = ax, kind = \"bar\", colormap = \"prism\", alpha = .5, figsize = (16,12), width = 1)\n",
    "for i, line in enumerate(ax.get_lines()):\n",
    "    line.set_marker(next(markers))\n",
    "ax.set_xlabel(\"date\")\n",
    "ax.set_ylabel(\"Precipitation Level\")\n",
    "ax.set_title(\"Rainfall by Station\")\n",
    "ax.set_xticks(np.arange(0,len(x_date)))\n",
    "ax.set_xticklabels(x_date[::-1], rotation = 70)\n",
    "plt.show()"
   ]
  },
  {
   "cell_type": "code",
   "execution_count": 358,
   "metadata": {},
   "outputs": [
    {
     "data": {
      "text/html": [
       "<div>\n",
       "<style scoped>\n",
       "    .dataframe tbody tr th:only-of-type {\n",
       "        vertical-align: middle;\n",
       "    }\n",
       "\n",
       "    .dataframe tbody tr th {\n",
       "        vertical-align: top;\n",
       "    }\n",
       "\n",
       "    .dataframe thead th {\n",
       "        text-align: right;\n",
       "    }\n",
       "</style>\n",
       "<table border=\"1\" class=\"dataframe\">\n",
       "  <thead>\n",
       "    <tr style=\"text-align: right;\">\n",
       "      <th></th>\n",
       "      <th>Average Prcp</th>\n",
       "      <th>Station Name</th>\n",
       "      <th>Longitude</th>\n",
       "      <th>Altitude</th>\n",
       "    </tr>\n",
       "  </thead>\n",
       "  <tbody>\n",
       "    <tr>\n",
       "      <th>USC00517948</th>\n",
       "      <td>0.506667</td>\n",
       "      <td>PEARL CITY, HI US</td>\n",
       "      <td>-157.97510</td>\n",
       "      <td>11.9</td>\n",
       "    </tr>\n",
       "    <tr>\n",
       "      <th>USC00513117</th>\n",
       "      <td>0.394667</td>\n",
       "      <td>KANEOHE 838.1, HI US</td>\n",
       "      <td>-157.80150</td>\n",
       "      <td>14.6</td>\n",
       "    </tr>\n",
       "    <tr>\n",
       "      <th>USC00519281</th>\n",
       "      <td>0.362667</td>\n",
       "      <td>WAIHEE 837.5, HI US</td>\n",
       "      <td>-157.84889</td>\n",
       "      <td>32.9</td>\n",
       "    </tr>\n",
       "    <tr>\n",
       "      <th>USC00516128</th>\n",
       "      <td>0.313846</td>\n",
       "      <td>MANOA LYON ARBO 785.2, HI US</td>\n",
       "      <td>-157.80250</td>\n",
       "      <td>152.4</td>\n",
       "    </tr>\n",
       "    <tr>\n",
       "      <th>USC00519523</th>\n",
       "      <td>0.232000</td>\n",
       "      <td>WAIMANALO EXPERIMENTAL FARM, HI US</td>\n",
       "      <td>-157.71139</td>\n",
       "      <td>19.5</td>\n",
       "    </tr>\n",
       "    <tr>\n",
       "      <th>USC00514830</th>\n",
       "      <td>0.223750</td>\n",
       "      <td>KUALOA RANCH HEADQUARTERS 886.9, HI US</td>\n",
       "      <td>-157.83740</td>\n",
       "      <td>7.0</td>\n",
       "    </tr>\n",
       "    <tr>\n",
       "      <th>USC00519397</th>\n",
       "      <td>0.182667</td>\n",
       "      <td>WAIKIKI 717.2, HI US</td>\n",
       "      <td>-157.81680</td>\n",
       "      <td>3.0</td>\n",
       "    </tr>\n",
       "    <tr>\n",
       "      <th>USC00518838</th>\n",
       "      <td>0.000000</td>\n",
       "      <td>UPPER WAHIAWA 874.3, HI US</td>\n",
       "      <td>-158.01110</td>\n",
       "      <td>306.6</td>\n",
       "    </tr>\n",
       "    <tr>\n",
       "      <th>USC00511918</th>\n",
       "      <td>0.000000</td>\n",
       "      <td>HONOLULU OBSERVATORY 702.2, HI US</td>\n",
       "      <td>-157.99920</td>\n",
       "      <td>0.9</td>\n",
       "    </tr>\n",
       "  </tbody>\n",
       "</table>\n",
       "</div>"
      ],
      "text/plain": [
       "             Average Prcp                            Station Name  Longitude  \\\n",
       "USC00517948      0.506667                       PEARL CITY, HI US -157.97510   \n",
       "USC00513117      0.394667                    KANEOHE 838.1, HI US -157.80150   \n",
       "USC00519281      0.362667                     WAIHEE 837.5, HI US -157.84889   \n",
       "USC00516128      0.313846            MANOA LYON ARBO 785.2, HI US -157.80250   \n",
       "USC00519523      0.232000      WAIMANALO EXPERIMENTAL FARM, HI US -157.71139   \n",
       "USC00514830      0.223750  KUALOA RANCH HEADQUARTERS 886.9, HI US -157.83740   \n",
       "USC00519397      0.182667                    WAIKIKI 717.2, HI US -157.81680   \n",
       "USC00518838      0.000000              UPPER WAHIAWA 874.3, HI US -158.01110   \n",
       "USC00511918      0.000000       HONOLULU OBSERVATORY 702.2, HI US -157.99920   \n",
       "\n",
       "             Altitude  \n",
       "USC00517948      11.9  \n",
       "USC00513117      14.6  \n",
       "USC00519281      32.9  \n",
       "USC00516128     152.4  \n",
       "USC00519523      19.5  \n",
       "USC00514830       7.0  \n",
       "USC00519397       3.0  \n",
       "USC00518838     306.6  \n",
       "USC00511918       0.9  "
      ]
     },
     "execution_count": 358,
     "metadata": {},
     "output_type": "execute_result"
    }
   ],
   "source": [
    "#dataframe of each station, location, and average rainfall for given vacation timeframe\n",
    "\n",
    "stations = session.query(Station.station).distinct()\n",
    "stations = [station[0] for station in stations]\n",
    "rainDict = {}\n",
    "start = \"2017\" + date1\n",
    "end = \"2017\" + date2\n",
    "\n",
    "rainAvg = []\n",
    "nameList = []\n",
    "longitudes = []\n",
    "latitudes = []\n",
    "altitudes = []\n",
    "maxnum = []\n",
    "minnum = []\n",
    "for station in stations:     \n",
    "    \n",
    "    data = session.query(func.avg(Measurement.prcp)).filter(Measurement.date >= start).\\\n",
    "    filter(Measurement.date <= end).filter(Measurement.station == station).all()\n",
    "    \n",
    "    nameList.append(session.query(Station.name).filter(Station.station == station).all()[0][0])\n",
    "    longitudes.append(session.query(Station.longitude).filter(Station.station == station).all()[0][0])\n",
    "    latitudes.append(session.query(Station.latitude).filter(Station.station == station).all()[0][0])\n",
    "    altitudes.append(session.query(Station.elevation).filter(Station.station == station).all()[0][0])\n",
    "    \n",
    "    maxnum.append(session.query(func.max(Measurement.station)).filter(Measurement.date >= start).\\\n",
    "    filter(Measurement.date <= end).filter(Measurement.station == station).all())\n",
    "    \n",
    "    minnum.append(session.query(Measurement.station).filter(Measurement.date >= start).\\\n",
    "    filter(Measurement.date <= end).filter(Measurement.station == station).all()))\n",
    "    \n",
    "    if(len(data) == 0 or data[0][0] is None):\n",
    "        rainAvg.append(0.00)\n",
    "    else:\n",
    "        rainAvg.append(data[0][0])\n",
    "rainDict[\"Average Prcp\"] = rainAvg    \n",
    "rainStats = pd.DataFrame(rainDict, index = stations)\n",
    "rainStats[\"Station Name\"] = nameList\n",
    "rainStats[\"Longitude\"] = longitudes\n",
    "rainStats[\"Altitude\"] = altitudes\n",
    "rainStats.sort_values(by = \"Average Prcp\", ascending = False, inplace = True)\n",
    "\n",
    "rainStats\n"
   ]
  },
  {
   "cell_type": "code",
   "execution_count": 359,
   "metadata": {},
   "outputs": [
    {
     "data": {
      "image/png": "[encoded data removed]",
      "text/plain": [
       "<Figure size 1152x864 with 1 Axes>"
      ]
     },
     "metadata": {
      "needs_background": "light"
     },
     "output_type": "display_data"
    }
   ],
   "source": [
    "\n",
    "fig, ax = plt.subplots(figsize = (16,12))\n",
    "ax.bar(nameList, rainStats[\"Average Prcp\"])\n",
    "ax.set_xlabel(\"Station\")\n",
    "ax.set_ylabel(\"Average Rainfall\")\n",
    "ax.set_title(\"Average Prcp by Station over Vacation Time Period\")\n",
    "ax.set_xticks(np.arange(0,len(x_date)))\n",
    "ax.set_xticklabels(nameList[::-1], rotation = 70)\n",
    "plt.show()\n"
   ]
  },
  {
   "cell_type": "code",
   "execution_count": 344,
   "metadata": {},
   "outputs": [],
   "source": [
    "tempList1 = calc_temps(\"2012\" + date1, \"2012\" + date2).tempData()\n",
    "tempList2 = calc_temps(\"2013\" + date1, \"2013\" + date2).tempData()\n",
    "tempList3 = calc_temps(\"2014\" + date1, \"2014\" + date2).tempData()\n",
    "tempList4 = calc_temps(\"2015\" + date1, \"2015\" + date2).tempData()\n",
    "tempList5 = calc_temps(\"2016\" + date1, \"2016\" + date2).tempData()\n",
    "tempList1 = [tempList1[i] for i in range(0, len(tempList2))]\n",
    "tempList5 = [tempList5[i] for i in range(0, len(tempList2))]\n",
    "tempTable = pd.DataFrame({\"2013\": tempList2, \"2014\": tempList3, \"2015\":tempList4, \"2016\": tempList5, \"2017\": y_temp}).astype(\"float\")\n",
    "\n",
    "tempTable[\"average\"] = (tempTable[\"2017\"] + tempTable[\"2013\"] + tempTable[\"2015\"] + tempTable[\"2014\"])/4\n",
    "tempTable[\"date\"] = x_date\n",
    "tempTable.set_index(\"date\", inplace = True)\n"
   ]
  },
  {
   "cell_type": "code",
   "execution_count": 347,
   "metadata": {},
   "outputs": [
    {
     "data": {
      "image/png": "[encoded data removed]",
      "text/plain": [
       "<Figure size 1152x864 with 1 Axes>"
      ]
     },
     "metadata": {
      "needs_background": "light"
     },
     "output_type": "display_data"
    }
   ],
   "source": [
    "#average temperature taken from past four years. Plotted along the date timeframe of the vacation\n",
    "\n",
    "\n",
    "markers = itertools.cycle(('^', '+', '.', 'o', '*', 'x', '1', 'v', '$*$', 's')) \n",
    "\n",
    "fig, ax = plt.subplots(figsize = (16,12))\n",
    "tempTable.plot(ax = ax, kind = \"bar\", colormap = \"rainbow\", alpha = .5)\n",
    "for i, line in enumerate(ax.get_lines()):\n",
    "    line.set_marker(next(markers))\n",
    "ax.set_xlabel(\"date\")\n",
    "ax.set_ylabel(\"temperature\")\n",
    "ax.set_title(\"Average Temperature\")\n",
    "ax.set_xticks(np.arange(0,len(x_date)))\n",
    "ax.set_xticklabels(x_date[::-1], rotation = 70)\n",
    "plt.show()"
   ]
  },
  {
   "cell_type": "markdown",
   "metadata": {},
   "source": [
    "## Optional Challenge Assignment"
   ]
  },
  {
   "cell_type": "code",
   "execution_count": 371,
   "metadata": {},
   "outputs": [],
   "source": [
    "# Plot the daily normals as an area plot with `stacked=False`\n",
    "session.close()"
   ]
  },
  {
   "cell_type": "code",
   "execution_count": null,
   "metadata": {},
   "outputs": [],
   "source": []
  }
 ],
 "metadata": {
  "kernel_info": {
   "name": "python3"
  },
  "kernelspec": {
   "display_name": "Python 3",
   "language": "python",
   "name": "python3"
  },
  "language_info": {
   "codemirror_mode": {
    "name": "ipython",
    "version": 3
   },
   "file_extension": ".py",
   "mimetype": "text/x-python",
   "name": "python",
   "nbconvert_exporter": "python",
   "pygments_lexer": "ipython3",
   "version": "3.7.0"
  },
  "nteract": {
   "version": "0.9.1"
  },
  "varInspector": {
   "cols": {
    "lenName": 16,
    "lenType": 16,
    "lenVar": 40
   },
   "kernels_config": {
    "python": {
     "delete_cmd_postfix": "",
     "delete_cmd_prefix": "del ",
     "library": "var_list.py",
     "varRefreshCmd": "print(var_dic_list())"
    },
    "r": {
     "delete_cmd_postfix": ") ",
     "delete_cmd_prefix": "rm(",
     "library": "var_list.r",
     "varRefreshCmd": "cat(var_dic_list()) "
    }
   },
   "types_to_exclude": [
    "module",
    "function",
    "builtin_function_or_method",
    "instance",
    "_Feature"
   ],
   "window_display": false
  }
 },
 "nbformat": 4,
 "nbformat_minor": 2
}
